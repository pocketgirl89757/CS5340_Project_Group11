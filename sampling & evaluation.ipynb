{
 "cells": [
  {
   "cell_type": "markdown",
   "metadata": {
    "colab_type": "text",
    "id": "cUa6A264kVzN"
   },
   "source": [
    "## Gibbs Sampling Algorithm ##"
   ]
  },
  {
   "cell_type": "markdown",
   "metadata": {
    "colab_type": "text",
    "id": "685Dl6x6-KSs"
   },
   "source": [
    "### Set up"
   ]
  },
  {
   "cell_type": "code",
   "execution_count": 15,
   "metadata": {
    "colab": {
     "base_uri": "https://localhost:8080/",
     "height": 34
    },
    "colab_type": "code",
    "executionInfo": {
     "elapsed": 1020,
     "status": "ok",
     "timestamp": 1588494580924,
     "user": {
      "displayName": "Gejing Wang",
      "photoUrl": "",
      "userId": "04279022513481746081"
     },
     "user_tz": -480
    },
    "id": "CLD2papI-MR_",
    "outputId": "3b24ec03-2767-469f-bc5f-fa44e83c6fc7"
   },
   "outputs": [],
   "source": [
    "# from google.colab import drive\n",
    "# drive.mount('/content/drive')\n",
    "\n",
    "import os\n",
    "import os.path as osp\n",
    "from datetime import datetime\n",
    "\n",
    "# ROOT = osp.join('/content', 'drive', 'My Drive', 'CS5340', 'project')\n",
    "ROOT = '.'"
   ]
  },
  {
   "cell_type": "code",
   "execution_count": 2,
   "metadata": {
    "colab": {},
    "colab_type": "code",
    "id": "x3NM6uhUpg5B"
   },
   "outputs": [],
   "source": [
    "num_features = 13\n",
    "N = 10000\n",
    "feature_index_map = {'age': 0, 'gender': 1, 'chronical': 2, 'fever_risk': 3, 'cough_risk': 4, 'shortness_risk': 5, 'sputum_risk': 6, 'diarrhea_risk': 7, 'myalgia_risk': 8, \\\n",
    "                     'fatigue_risk': 9, 'heart_risk': 10, 'chest_risk': 11, 'headache_risk': 12}"
   ]
  },
  {
   "cell_type": "markdown",
   "metadata": {
    "colab_type": "text",
    "id": "rjmfMP38kpV3"
   },
   "source": [
    "### Initialize dictionary for ground truth model"
   ]
  },
  {
   "cell_type": "code",
   "execution_count": 3,
   "metadata": {
    "colab": {},
    "colab_type": "code",
    "id": "fE8Cc4OLkoBp"
   },
   "outputs": [],
   "source": [
    "age = [0.03518, 0.02412, 0.12161, 0.17789, 0.13266, 0.18392, 0.14271, 0.11055, 0.07136] # 0, 1,  ...., 8\n",
    "gender = [0.58193, 0.41807] # Male: 0  Female: 1\n",
    "prior_dict = {\"age\":age, \"gender\": gender} \n",
    "\n",
    "chronical_age_gender = {  # [false, true]\n",
    "    \"0_0\": [0.928571429, 0.071428571],\n",
    "    \"0_1\": [0.923076923, 0.076923077],\n",
    "    \"1_0\": [0.928571429, 0.071428571],\n",
    "    \"1_1\": [0.928571429, 0.071428571],\n",
    "    \"2_0\": [0.980392157, 0.019607843],\n",
    "    \"2_1\": [0.945945946, 0.054054054],\n",
    "    \"3_0\": [0.95, 0.05],\n",
    "    \"3_1\": [0.972972973, 0.027027027],\n",
    "    \"4_0\": [0.903846154, 0.096153846],\n",
    "    \"4_1\": [0.894736842, 0.105263158],\n",
    "    \"5_0\": [0.742424242, 0.257575758],\n",
    "    \"5_1\": [0.884615385, 0.115384615],\n",
    "    \"6_0\": [0.578947368, 0.421052632],\n",
    "    \"6_1\": [0.696969697, 0.303030303],\n",
    "    \"7_0\": [0.442307692, 0.557692308],\n",
    "    \"7_1\": [0.714285714, 0.285714286],\n",
    "    \"8_0\": [0.515151515, 0.484848485],\n",
    "    \"8_1\": [0.647058824, 0.352941176],\n",
    "    }\n",
    "\n",
    "risk_age_gender_chronical = {  # [low, high]\n",
    "    \"0_0_1\": [0.5, 0.5], \n",
    "    \"0_0_0\": [0.928571429, 0.071428571], \n",
    "    \"0_1_1\": [0.5, 0.5], \n",
    "    \"0_1_0\": [0.923076923, 0.076923077], \n",
    "    \"1_0_1\": [0.5, 0.5], \n",
    "    \"1_0_0\": [0.928571429, 0.071428571], \n",
    "    \"1_1_1\": [0.5, 0.5], \n",
    "    \"1_1_0\": [0.9, 0.1], \n",
    "    \"2_0_1\": [0.5, 0.5], \n",
    "    \"2_0_0\": [0.980392157, 0.019607843], \n",
    "    \"2_1_1\": [0.666666667, 0.333333333], \n",
    "    \"2_1_0\": [0.972222222, 0.027777778], \n",
    "    \"3_0_1\": [0.6, 0.4], \n",
    "    \"3_0_0\": [0.922077922, 0.077922078], \n",
    "    \"3_1_1\": [0.5, 0.5], \n",
    "    \"3_1_0\": [0.972972973, 0.027027027], \n",
    "    \"4_0_1\": [0.166666667, 0.833333333], \n",
    "    \"4_0_0\": [0.875, 0.125], \n",
    "    \"4_1_1\": [0.4, 0.6], \n",
    "    \"4_1_0\": [0.971428571, 0.028571429], \n",
    "    \"5_0_1\": [0.277777778, 0.722222222], \n",
    "    \"5_0_0\": [0.76, 0.24], \n",
    "    \"5_1_1\": [0.333333333, 0.666666667], \n",
    "    \"5_1_0\": [0.972222222, 0.027777778], \n",
    "    \"6_0_1\": [0.16, 0.84], \n",
    "    \"6_0_0\": [0.647058824, 0.352941176], \n",
    "    \"6_1_1\": [0.181818182, 0.818181818], \n",
    "    \"6_1_0\": [0.75, 0.25], \n",
    "    \"7_0_1\": [0.233333333, 0.766666667], \n",
    "    \"7_0_0\": [0.416666667, 0.583333333], \n",
    "    \"7_1_1\": [0.181818182, 0.818181818], \n",
    "    \"7_1_0\": [0.384615385, 0.615384615], \n",
    "    \"8_0_1\": [0.058823529, 0.941176471], \n",
    "    \"8_0_0\": [0.166666667, 0.833333333], \n",
    "    \"8_1_1\": [0.230769231, 0.769230769], \n",
    "    \"8_1_0\": [0.043478261, 0.956521739], \n",
    "    }\n",
    "\n",
    "fever_risk = {\"1\":[0.68276,0.31724],\"0\":[0.25,0.75]}\n",
    "cough_risk = {\"1\":[0.79412,0.20588],\"0\":[0.38542,0.61458]}\n",
    "shortness_risk = {\"1\":[0.28169,0.71831],\"0\":[0.78235,0.21765]}\n",
    "sputum_risk = {\"1\":[0.96429,0.03571],\"0\":[0.96319,0.03681]}\n",
    "diarrhea_risk = {\"1\":[0.97857,0.02143],\"0\":[0.96319,0.03681]}\n",
    "myalgia_risk = {\"1\":[0.9635,0.0365], \"0\":[0.90071,0.09929]}\n",
    "headache_risk = { \n",
    "\t\"0\": [0.89744, 0.10256], #[False, True]\n",
    "\t\"1\": [0.97744, 0.02256]    \n",
    "}\n",
    "\n",
    "chest_risk = {\n",
    "\t\"0\": [0.97403, 0.02597],\n",
    "\t\"1\": [0.98496, 0.01504]\n",
    "}\n",
    "\n",
    "heart_risk = {\n",
    "\t\"0\": [1.0, 0],\n",
    "\t\"1\": [0.85714, 0.14286]\n",
    "}\n",
    "\n",
    "fatigue_risk = {\n",
    "\t\"0\": [0.11852, 0.88148],\n",
    "\t\"1\": [0.09489, 0.90511]\n",
    "}\n",
    "\n",
    "conditonal_dict = {\"chronical_age_gender\":chronical_age_gender, \"risk_age_gender_chronical\": risk_age_gender_chronical, \"fever_risk\": fever_risk, \n",
    "                   \"cough_risk\": cough_risk, \"shortness_risk\": shortness_risk, \n",
    "                   \"sputum_risk\": sputum_risk, \"diarrhea_risk\": diarrhea_risk, \"myalgia_risk\": myalgia_risk, \"fatigue_risk\": fatigue_risk, \n",
    "                   \"heart_risk\": heart_risk, \"chest_risk\": chest_risk, \"headache_risk\": headache_risk}"
   ]
  },
  {
   "cell_type": "markdown",
   "metadata": {
    "colab_type": "text",
    "id": "dBJI362mksLB"
   },
   "source": [
    "### Gibbs samping"
   ]
  },
  {
   "cell_type": "code",
   "execution_count": 4,
   "metadata": {
    "colab": {},
    "colab_type": "code",
    "id": "rJ80d25_kNyM"
   },
   "outputs": [],
   "source": [
    "import numpy as np\n",
    "\n",
    "# phat is the unnormalized distribution\n",
    "# prior_dict: {age: [0.1, 0.1, 0.2, 0.1, 0.1, 0.1, 0.1, 0.1, 0.1], gender:[0.45, 0.55]}\n",
    "# conditonal_dict: {chronical_age_gender, risk_age_gender_chronical, fever_risk, cough_risk, shortness_risk, \n",
    "# sputum_risk, diarrhea_risk, myalgia_risk, fatigue_risk, heart_risk, chest_risk, headache_risk}\n",
    "#   chronical_age_gender{f'{age}_{gender}':[0.4, 0.6]}\n",
    "# N is the number of samples we want to draw\n",
    "# T is the interval at which we record a sample.\n",
    "\n",
    "def Gibbs(prior_dict, conditonal_dict, N):\n",
    "  samples = []\n",
    "\n",
    "  for n in range(N):\n",
    "    sample = {}\n",
    "\n",
    "    # prior\n",
    "    for key, value in prior_dict.items():\n",
    "      sample[key] = sample_node(value)\n",
    "\n",
    "    # chronical\n",
    "    chronical_age_gender = conditonal_dict['chronical_age_gender']\n",
    "    prob_table_list = chronical_age_gender[f'{sample[\"age\"]}_{sample[\"gender\"]}']\n",
    "    sample['chronical'] = sample_node(prob_table_list)\n",
    "\n",
    "    # risk\n",
    "    risk_age_gender_chronical = conditonal_dict['risk_age_gender_chronical']\n",
    "    prob_table_list = risk_age_gender_chronical[f'{sample[\"age\"]}_{sample[\"gender\"]}_{sample[\"chronical\"]}']\n",
    "    sample['risk'] = sample_node(prob_table_list)\n",
    "\n",
    "    # conditional\n",
    "    for key, value in conditonal_dict.items():\n",
    "      if key != 'chronical_age_gender' and key != 'risk_age_gender_chronical':\n",
    "        conditional_prob = conditonal_dict[key]\n",
    "        prob_table_list = conditional_prob[f'{sample[\"risk\"]}']\n",
    "        sample[key] = sample_node(prob_table_list)\n",
    "\n",
    "    samples.append(sample)\n",
    "  \n",
    "  return samples\n",
    "    "
   ]
  },
  {
   "cell_type": "markdown",
   "metadata": {
    "colab_type": "text",
    "id": "rbG6nwH64P5w"
   },
   "source": [
    "### Utils"
   ]
  },
  {
   "cell_type": "code",
   "execution_count": 5,
   "metadata": {
    "colab": {},
    "colab_type": "code",
    "id": "d6h7gCLgkk-o"
   },
   "outputs": [],
   "source": [
    "def cumulative_sum(arr):\n",
    "    sum = 0\n",
    "    result = []\n",
    "\n",
    "    for i in range(len(arr)):\n",
    "      sum = sum + arr[i]\n",
    "      result.append(sum)\n",
    "\n",
    "    return result"
   ]
  },
  {
   "cell_type": "code",
   "execution_count": 6,
   "metadata": {
    "colab": {},
    "colab_type": "code",
    "id": "NEK0FaDbu1lq"
   },
   "outputs": [],
   "source": [
    "def sample_node(prob_table_list):\n",
    "  u = np.random.uniform(0,1)\n",
    "\n",
    "  cum_arr = cumulative_sum(prob_table_list)\n",
    "\n",
    "  for i in range(len(cum_arr)):\n",
    "    if u < cum_arr[i]:\n",
    "      return i\n"
   ]
  },
  {
   "cell_type": "markdown",
   "metadata": {
    "colab_type": "text",
    "id": "UttKEzJP4R-p"
   },
   "source": [
    "### Save samples as csv"
   ]
  },
  {
   "cell_type": "code",
   "execution_count": 7,
   "metadata": {
    "colab": {},
    "colab_type": "code",
    "id": "lBBH35PEHu4z"
   },
   "outputs": [],
   "source": [
    "import csv\n",
    "\n",
    "def save_samples_as_csv(samples, csv_file_name = \"samples.csv\"):\n",
    "  with open(osp.join(ROOT, csv_file_name), 'w') as csvfile:\n",
    "    csv_columns = samples[0].keys()\n",
    "    writer = csv.DictWriter(csvfile, fieldnames=csv_columns)\n",
    "    writer.writeheader()\n",
    "    for data in samples:\n",
    "      writer.writerow(data)"
   ]
  },
  {
   "cell_type": "markdown",
   "metadata": {
    "colab_type": "text",
    "id": "aR0sS-6vNkQ1"
   },
   "source": [
    "## Evaluation"
   ]
  },
  {
   "cell_type": "markdown",
   "metadata": {
    "colab_type": "text",
    "id": "sRdDNs9NXxPg"
   },
   "source": [
    "### Initialize Naive Bayes probabilities"
   ]
  },
  {
   "cell_type": "code",
   "execution_count": 8,
   "metadata": {
    "colab": {},
    "colab_type": "code",
    "id": "9xlt18_CXwMp"
   },
   "outputs": [],
   "source": [
    "prior = [0.770873786, 0.229126214]\n",
    "\n",
    "age = {'0': [0.04569,\t0.03133,\t0.15796,\t0.21802,\t0.15405,\t0.19843,\t0.11880,\t0.06266,\t0.01305], \n",
    "\t\t\t\t'1': [0.00417,\t0.00417,\t0.00417,\t0.05000,\t0.06250,\t0.13333,\t0.21667,\t0.26250,\t0.26250]}\n",
    "gender = {'0':[0.557989691,\t0.442010309], # Male: 0  Female: 1\n",
    "          '1':[0.663829787,\t0.336170213]}  \n",
    "\n",
    "chronical = {'0': [0.952182952, 0.047817048], \n",
    "             '1': [0.502369668, 0.497630332]}\n",
    "\n",
    "fever_risk = {'0':[0.25, 0.75], '1':[0.682759, 0.317241]}\n",
    "cough_risk = {'0':[0.385416667, 0.614583], '1':[0.794117647, 0.205882]}\n",
    "sputum_risk = {'0':[0.963190184,0.036809816],'1':[0.964285714,0.035714286]}\n",
    "diarrhea_risk = {'0':[0.963190184,0.036809816],'1':[0.978571429,0.021428571]}\n",
    "myalgia_risk= {'0':[0.90070922,0.09929078],'1':[0.96350365,0.03649635]}\n",
    "fatigue_risk = {'0':[0.881481481,0.118518519],'1':[0.905109489,0.094890511]}\n",
    "chest_risk = {'0':[0.962025316,0.037974684],'1':[0.977777778,0.022222222]}\n",
    "shortness_risk = {'0':[0.782352941,0.217647059],'1':[0.281690141,0.718309859]}\n",
    "headache_risk = {\n",
    "\t'0': [0.8875, 0.1125],\n",
    "\t'1': [0.97037, 0.02963]\n",
    "}\n",
    "\n",
    "heart_risk = {\n",
    "\t'0': [0.851852, 0.148148],\n",
    "\t'1': [0.987342, 0.012658]\n",
    "\t\n",
    "}\n",
    "\n",
    "\n",
    "conditional = {\"age\": age, \"gender\": gender, \"chronical\": chronical, \"fever_risk\": fever_risk, \"cough_risk\": cough_risk, \"shortness_risk\": shortness_risk, \n",
    "                   \"sputum_risk\": sputum_risk, \"diarrhea_risk\": diarrhea_risk, \"myalgia_risk\": myalgia_risk, \"fatigue_risk\": fatigue_risk, \"heart_risk\": heart_risk, \n",
    "\t\t\t\t\t\t\t\t\t\t\"chest_risk\": chest_risk, \"headache_risk\": headache_risk}"
   ]
  },
  {
   "cell_type": "markdown",
   "metadata": {
    "colab_type": "text",
    "id": "ilduS7ZqX3qD"
   },
   "source": [
    "### Calculate predicted probabilities"
   ]
  },
  {
   "cell_type": "code",
   "execution_count": 9,
   "metadata": {
    "colab": {},
    "colab_type": "code",
    "id": "I1p2FUNVXrRY"
   },
   "outputs": [],
   "source": [
    "# prior_dict: [0.45, 0.55]\n",
    "# conditonal_dict: {age_risk, gender_risk, chronical_risk, fever_risk, cough_risk, shortness_risk, \n",
    "# sputum_risk, diarrhea_risk, myalgia_risk, fatigue_risk, heart_risk, chest_risk, headache_risk}\n",
    "#   age = {0: [0.1, 0.8, ... , 0.1], 1:[0.3, 0.6, ..., 0.1]}\n",
    "\n",
    "def calcualte_NB_predicted_probabilities(prior_dict, conditional_dict, sample, threshold = 0.15459605265240228):\n",
    "  prob_low = prior_dict[0]\n",
    "  prob_high = prior_dict[1]\n",
    "\n",
    "  for key, value in sample.items():\n",
    "    if key == 'risk':\n",
    "      continue\n",
    "\n",
    "    prob_low = prob_low * conditional_dict[key]['0'][value]\n",
    "    prob_high = prob_high * conditional_dict[key]['1'][value]\n",
    "\n",
    "    prob_high_normalized = prob_high / (prob_low + prob_high)\n",
    "\n",
    "  return 1 if prob_high_normalized > threshold else 0, prob_high_normalized"
   ]
  },
  {
   "cell_type": "markdown",
   "metadata": {
    "colab_type": "text",
    "id": "ytAeqUJrrtFG"
   },
   "source": [
    "### Plot AUC "
   ]
  },
  {
   "cell_type": "code",
   "execution_count": 10,
   "metadata": {
    "colab": {},
    "colab_type": "code",
    "id": "llVzKiA60fbW"
   },
   "outputs": [],
   "source": [
    "from matplotlib import pyplot\n",
    "\n",
    "def plot_roc(fpr, tpr):\n",
    "  pyplot.plot(fpr, tpr, marker='.', label='roc')\n",
    "  # axis labels\n",
    "  pyplot.xlabel('False Positive Rate')\n",
    "  pyplot.ylabel('True Positive Rate')\n",
    "  # show the legend\n",
    "  pyplot.legend()\n",
    "  # show the plot\n",
    "  pyplot.show()"
   ]
  },
  {
   "cell_type": "markdown",
   "metadata": {
    "colab_type": "text",
    "id": "rR6AH9M4DjUE"
   },
   "source": [
    "### evaluation util"
   ]
  },
  {
   "cell_type": "code",
   "execution_count": 11,
   "metadata": {
    "colab": {},
    "colab_type": "code",
    "id": "LolSuoXPB9lh"
   },
   "outputs": [],
   "source": [
    "from sklearn.metrics import confusion_matrix\n",
    "from sklearn import metrics\n",
    "\n",
    "def evaluation(y_true, y_pred):\n",
    " \n",
    "  tn, fp, fn, tp = confusion_matrix(y_true, y_pred).ravel()\n",
    "  fpr, tpr, thresholds = metrics.roc_curve(y_true, y_prob)\n",
    "  metrics.auc(fpr, tpr)\n",
    "\n",
    "  precision = tp / (tp + fp)\n",
    "  recall = tp / (tp + fn)\n",
    "\n",
    "  print(\"precision = {}\".format(precision))\n",
    "  print(\"recall = {}\".format(recall))\n",
    "\n",
    "  plot_roc(fpr, tpr)\n",
    "  print(\"auc = {}\".format(metrics.auc(fpr, tpr)))\n",
    "\n",
    "  optimal_idx = np.argmax(tpr - fpr)\n",
    "  optimal_threshold = thresholds[optimal_idx]\n",
    "  print(\"threshold = {}\".format(optimal_threshold))\n",
    "\n",
    "  print(\"f1_score = {}\".format(metrics.f1_score(y_true, y_pred)))"
   ]
  },
  {
   "cell_type": "markdown",
   "metadata": {
    "colab_type": "text",
    "id": "32ywCSAJVA6J"
   },
   "source": [
    "## Main"
   ]
  },
  {
   "cell_type": "code",
   "execution_count": 16,
   "metadata": {
    "colab": {},
    "colab_type": "code",
    "id": "hslHYH5YEBki"
   },
   "outputs": [],
   "source": [
    "samples = Gibbs(prior_dict, conditonal_dict, N =100000 )\n",
    "save_samples_as_csv(samples, csv_file_name = str(datetime.now().timestamp()) + '-samples.csv')"
   ]
  },
  {
   "cell_type": "markdown",
   "metadata": {
    "colab_type": "text",
    "id": "p7ViNVSQs8Bn"
   },
   "source": [
    "### Evaluate Naive Bayes Model"
   ]
  },
  {
   "cell_type": "code",
   "execution_count": 17,
   "metadata": {
    "colab": {
     "base_uri": "https://localhost:8080/",
     "height": 364
    },
    "colab_type": "code",
    "executionInfo": {
     "elapsed": 1664,
     "status": "ok",
     "timestamp": 1588518514005,
     "user": {
      "displayName": "Gejing Wang",
      "photoUrl": "",
      "userId": "04279022513481746081"
     },
     "user_tz": -480
    },
    "id": "sarfZ0cqEHoU",
    "outputId": "b286a1c2-e722-476b-9c51-a23b5e604732"
   },
   "outputs": [
    {
     "name": "stdout",
     "output_type": "stream",
     "text": [
      "precision = 0.7500071828760235\n",
      "recall = 0.8668969181721573\n"
     ]
    },
    {
     "data": {
      "image/png": "[encoded data removed]",
      "text/plain": [
       "<Figure size 432x288 with 1 Axes>"
      ]
     },
     "metadata": {
      "needs_background": "light"
     },
     "output_type": "display_data"
    },
    {
     "name": "stdout",
     "output_type": "stream",
     "text": [
      "auc = 0.9390943121336631\n",
      "threshold = 0.15459605265240228\n",
      "f1_score = 0.8042269359335767\n"
     ]
    }
   ],
   "source": [
    "from sklearn.metrics import confusion_matrix\n",
    "from sklearn import metrics\n",
    "\n",
    "y_true = []\n",
    "y_pred = []\n",
    "y_prob = []\n",
    "\n",
    "for sample in samples:\n",
    "\tpred, prob = calcualte_NB_predicted_probabilities(prior, conditional, sample)\n",
    "\ty_pred.append(pred)\n",
    "\ty_prob.append(prob)\n",
    "\ty_true.append(sample['risk'])\n",
    " \n",
    "evaluation(y_true, y_pred)"
   ]
  },
  {
   "cell_type": "markdown",
   "metadata": {
    "colab_type": "text",
    "id": "NFx656OJtBM3"
   },
   "source": [
    "### Evaluate Ground Truth Model - Sampling Based Approach"
   ]
  },
  {
   "cell_type": "code",
   "execution_count": 18,
   "metadata": {
    "colab": {},
    "colab_type": "code",
    "id": "W53KmBxv6AkA"
   },
   "outputs": [],
   "source": [
    "def construct_evidence_key(sample):\n",
    "  evidence = np.empty(len(sample.keys()))\n",
    "\n",
    "  for key, value in sample.items():\n",
    "    if key == 'risk':\n",
    "      continue\n",
    "\n",
    "    index = feature_index_map[key]\n",
    "    evidence[index] = value\n",
    "\n",
    "  return np.array_str(evidence)"
   ]
  },
  {
   "cell_type": "code",
   "execution_count": 19,
   "metadata": {
    "colab": {},
    "colab_type": "code",
    "id": "uivddmYcySyw"
   },
   "outputs": [],
   "source": [
    "def calculate_normalized_high_prob_given_features(samples):\n",
    "  evidence_count_map = {} \n",
    "\n",
    "  for sample in samples:\n",
    "    evidence_key = construct_evidence_key(sample)\n",
    "    current_risk = sample['risk']\n",
    "\n",
    "    if evidence_key in evidence_count_map.keys():\n",
    "      low, high = evidence_count_map[evidence_key] \n",
    "\n",
    "      if current_risk == 0:\n",
    "        evidence_count_map[evidence_key] = (low + 1, high)\n",
    "      else:\n",
    "        evidence_count_map[evidence_key] = (low, high + 1)\n",
    "\n",
    "    else:\n",
    "      if current_risk == 0:\n",
    "        evidence_count_map[evidence_key] = (1, 0)\n",
    "      else:\n",
    "        evidence_count_map[evidence_key] = (0, 1)\n",
    "\n",
    "  normalized_high_prob_map = {}\n",
    "  for key, value in evidence_count_map.items():\n",
    "    low, high = value\n",
    "    normalized_high_prob_map[key] = high / (high + low)\n",
    "\n",
    "  return normalized_high_prob_map"
   ]
  },
  {
   "cell_type": "code",
   "execution_count": 20,
   "metadata": {
    "colab": {},
    "colab_type": "code",
    "id": "kYdjYElG5TDX"
   },
   "outputs": [],
   "source": [
    "def calcualte_ground_truth_label(samples, normalized_high_prob_map, threshold = 0.3023255813953488):\n",
    "\n",
    "  y_true = []\n",
    "  y_pred = []\n",
    "  y_prob = []\n",
    "\n",
    "  for sample in samples:\n",
    "    evidence_key = construct_evidence_key(sample)\n",
    "    normalized_high_prob = normalized_high_prob_map[evidence_key]\n",
    "\n",
    "    pred = 1 if normalized_high_prob > threshold else 0 \n",
    "    y_pred.append(pred)\n",
    "    y_prob.append(normalized_high_prob)\n",
    "    y_true.append(sample['risk'])\n",
    " \n",
    "  evaluation(y_true, y_pred)"
   ]
  },
  {
   "cell_type": "code",
   "execution_count": 21,
   "metadata": {
    "colab": {},
    "colab_type": "code",
    "id": "WdHkMOWw8mt-"
   },
   "outputs": [],
   "source": [
    "normalized_high_prob_map = calculate_normalized_high_prob_given_features(samples)  # i.e. inference through counting sampling data"
   ]
  },
  {
   "cell_type": "code",
   "execution_count": 22,
   "metadata": {
    "colab": {
     "base_uri": "https://localhost:8080/",
     "height": 364
    },
    "colab_type": "code",
    "executionInfo": {
     "elapsed": 19671,
     "status": "ok",
     "timestamp": 1588518790484,
     "user": {
      "displayName": "Gejing Wang",
      "photoUrl": "",
      "userId": "04279022513481746081"
     },
     "user_tz": -480
    },
    "id": "5VlvojTOGM2U",
    "outputId": "badb3b96-bbf5-4ddb-dab9-35f7273f5a44"
   },
   "outputs": [
    {
     "name": "stdout",
     "output_type": "stream",
     "text": [
      "precision = 0.8055401338281273\n",
      "recall = 0.9155154091392136\n"
     ]
    },
    {
     "data": {
      "image/png": "[encoded data removed]",
      "text/plain": [
       "<Figure size 432x288 with 1 Axes>"
      ]
     },
     "metadata": {
      "needs_background": "light"
     },
     "output_type": "display_data"
    },
    {
     "name": "stdout",
     "output_type": "stream",
     "text": [
      "auc = 0.9390943121336631\n",
      "threshold = 0.15459605265240228\n",
      "f1_score = 0.857014066993083\n"
     ]
    }
   ],
   "source": [
    "calcualte_ground_truth_label(samples, normalized_high_prob_map)"
   ]
  },
  {
   "cell_type": "markdown",
   "metadata": {},
   "source": [
    "### Evaluate Ground Truth Model - Factor Graph Based Approach"
   ]
  },
  {
   "cell_type": "code",
   "execution_count": 23,
   "metadata": {},
   "outputs": [],
   "source": [
    "from pomegranate import *"
   ]
  },
  {
   "cell_type": "code",
   "execution_count": 24,
   "metadata": {},
   "outputs": [],
   "source": [
    "age = DiscreteDistribution({0: 0.03518,\n",
    "                            1: 0.02412,\n",
    "                            2: 0.12161,\n",
    "                            3: 0.17789,\n",
    "                            4: 0.13266,\n",
    "                            5: 0.18392,\n",
    "                            6: 0.14271,\n",
    "                            7: 0.11055,\n",
    "                            8: 0.07136})\n",
    "gender = DiscreteDistribution({0: 0.58193, 1: 0.41807}) # Male: 0  Female: 1\n",
    "chronical_disease = ConditionalProbabilityTable( # [false, true]\n",
    "        [[0, 0, 0, 0.928571429],\n",
    "         [0, 0, 1, 0.071428571],\n",
    "         [0, 1, 0, 0.923076923],\n",
    "         [0, 1, 1, 0.076923077],\n",
    "         [1, 0, 0, 0.928571429],\n",
    "         [1, 0, 1, 0.071428571],\n",
    "         [1, 1, 0, 0.928571429],\n",
    "         [1, 1, 1, 0.071428571],\n",
    "         [2, 0, 0, 0.980392157],\n",
    "         [2, 0, 1, 0.019607843],\n",
    "         [2, 1, 0, 0.945945946],\n",
    "         [2, 1, 1, 0.054054054],\n",
    "         [3, 0, 0, 0.95],\n",
    "         [3, 0, 1, 0.05],\n",
    "         [3, 1, 0, 0.972972973],\n",
    "         [3, 1, 1, 0.027027027],\n",
    "         [4, 0, 0, 0.903846154],\n",
    "         [4, 0, 1, 0.096153846],\n",
    "         [4, 1, 0, 0.894736842],\n",
    "         [4, 1, 1, 0.105263158],\n",
    "         [5, 0, 0, 0.742424242],\n",
    "         [5, 0, 1, 0.257575758],\n",
    "         [5, 1, 0, 0.884615385],\n",
    "         [5, 1, 1, 0.115384615],\n",
    "         [6, 0, 0, 0.578947368],\n",
    "         [6, 0, 1, 0.421052632],\n",
    "         [6, 1, 0, 0.696969697],\n",
    "         [6, 1, 1, 0.303030303],\n",
    "         [7, 0, 0, 0.442307692],\n",
    "         [7, 0, 1, 0.557692308],\n",
    "         [7, 1, 0, 0.714285714],\n",
    "         [7, 1, 1, 0.285714286],\n",
    "         [8, 0, 0, 0.515151515],\n",
    "         [8, 0, 1, 0.484848485],\n",
    "         [8, 1, 0, 0.647058824],\n",
    "         [8, 1, 1, 0.352941176]], [age, gender])\n",
    "risk_factor = ConditionalProbabilityTable( # [low, high]\n",
    "        [[0, 0, 1, 0, 0.5],\n",
    "         [0, 0, 1, 1, 0.5],\n",
    "         [0, 0, 0, 0, 0.928571429],\n",
    "         [0, 0, 0, 1, 0.071428571],\n",
    "         [0, 1, 1, 0, 0.5],\n",
    "         [0, 1, 1, 1, 0.5],\n",
    "         [0, 1, 0, 0, 0.923076923],\n",
    "         [0, 1, 0, 1, 0.076923077],\n",
    "         [1, 0, 1, 0, 0.5],\n",
    "         [1, 0, 1, 1, 0.5],\n",
    "         [1, 0, 0, 0, 0.928571429],\n",
    "         [1, 0, 0, 1, 0.071428571],\n",
    "         [1, 1, 1, 0, 0.5],\n",
    "         [1, 1, 1, 1, 0.5],\n",
    "         [1, 1, 0, 0, 0.9],\n",
    "         [1, 1, 0, 1, 0.1],\n",
    "         [2, 0, 1, 0, 0.5],\n",
    "         [2, 0, 1, 1, 0.5],\n",
    "         [2, 0, 0, 0, 0.980392157],\n",
    "         [2, 0, 0, 1, 0.019607843],\n",
    "         [2, 1, 1, 0, 0.666666667],\n",
    "         [2, 1, 1, 1, 0.333333333],\n",
    "         [2, 1, 0, 0, 0.972222222],\n",
    "         [2, 1, 0, 1, 0.027777778],\n",
    "         [3, 0, 1, 0, 0.6],\n",
    "         [3, 0, 1, 1, 0.4],\n",
    "         [3, 0, 0, 0, 0.922077922],\n",
    "         [3, 0, 0, 1, 0.077922078],\n",
    "         [3, 1, 1, 0, 0.5],\n",
    "         [3, 1, 1, 1, 0.5],\n",
    "         [3, 1, 0, 0, 0.972972973],\n",
    "         [3, 1, 0, 1, 0.027027027],\n",
    "         [4, 0, 1, 0, 0.166666667],\n",
    "         [4, 0, 1, 1, 0.833333333],\n",
    "         [4, 0, 0, 0, 0.875],\n",
    "         [4, 0, 0, 1, 0.125],\n",
    "         [4, 1, 1, 0, 0.4],\n",
    "         [4, 1, 1, 1, 0.6],\n",
    "         [4, 1, 0, 0, 0.971428571],\n",
    "         [4, 1, 0, 1, 0.028571429],\n",
    "         [5, 0, 1, 0, 0.277777778],\n",
    "         [5, 0, 1, 1, 0.722222222],\n",
    "         [5, 0, 0, 0, 0.76],\n",
    "         [5, 0, 0, 1, 0.24],\n",
    "         [5, 1, 1, 0, 0.333333333],\n",
    "         [5, 1, 1, 1, 0.666666667],\n",
    "         [5, 1, 0, 0, 0.972222222],\n",
    "         [5, 1, 0, 1, 0.027777778],\n",
    "         [6, 0, 1, 0, 0.16],\n",
    "         [6, 0, 1, 1, 0.84],\n",
    "         [6, 0, 0, 0, 0.647058824],\n",
    "         [6, 0, 0, 1, 0.352941176],\n",
    "         [6, 1, 1, 0, 0.181818182],\n",
    "         [6, 1, 1, 1, 0.818181818],\n",
    "         [6, 1, 0, 0, 0.75],\n",
    "         [6, 1, 0, 1, 0.25],\n",
    "         [7, 0, 1, 0, 0.233333333],\n",
    "         [7, 0, 1, 1, 0.766666667],\n",
    "         [7, 0, 0, 0, 0.416666667],\n",
    "         [7, 0, 0, 1, 0.583333333],\n",
    "         [7, 1, 1, 0, 0.181818182],\n",
    "         [7, 1, 1, 1, 0.818181818],\n",
    "         [7, 1, 0, 0, 0.384615385],\n",
    "         [7, 1, 0, 1, 0.615384615],\n",
    "         [8, 0, 1, 0, 0.058823529],\n",
    "         [8, 0, 1, 1, 0.941176471],\n",
    "         [8, 0, 0, 0, 0.166666667],\n",
    "         [8, 0, 0, 1, 0.833333333],\n",
    "         [8, 1, 1, 0, 0.230769231],\n",
    "         [8, 1, 1, 1, 0.769230769],\n",
    "         [8, 1, 0, 0, 0.043478261],\n",
    "         [8, 1, 0, 1, 0.956521739]], [age, gender, chronical_disease])\n",
    "\n",
    "fever = ConditionalProbabilityTable([\n",
    "    [0, 0, 0.25],\n",
    "    [0, 1, 0.75],\n",
    "    [1, 0, 0.682759],\n",
    "    [1, 1, 0.317241]\n",
    "], [risk_factor])\n",
    "\n",
    "cough = ConditionalProbabilityTable([\n",
    "    [0, 0, 0.38542],\n",
    "    [0, 1, 0.61458],\n",
    "    [1, 0, 0.79412],\n",
    "    [1, 1, 0.20588]\n",
    "], [risk_factor])\n",
    "\n",
    "shortness = ConditionalProbabilityTable([\n",
    "    [0, 0, 0.78235],\n",
    "    [0, 1, 0.21765],\n",
    "    [1, 0, 0.28169],\n",
    "    [1, 1, 0.71831]\n",
    "], [risk_factor])\n",
    "\n",
    "sputum = ConditionalProbabilityTable([\n",
    "    [0, 0, 0.96319],\n",
    "    [0, 1, 0.03681],\n",
    "    [1, 0, 0.96429],\n",
    "    [1, 1, 0.03571]\n",
    "], [risk_factor])\n",
    "\n",
    "diarrhea = ConditionalProbabilityTable([\n",
    "    [0, 0, 0.96319],\n",
    "    [0, 1, 0.03681],\n",
    "    [1, 0, 0.97857],\n",
    "    [1, 1, 0.02143]\n",
    "], [risk_factor])\n",
    "\n",
    "myalgia = ConditionalProbabilityTable([\n",
    "    [0, 0, 0.90071],\n",
    "    [0, 1, 0.09929],\n",
    "    [1, 0, 0.9635],\n",
    "    [1, 1, 0.0365]\n",
    "], [risk_factor])\n",
    "\n",
    "headache = ConditionalProbabilityTable([\n",
    "    [0, 0, 0.89744],\n",
    "    [0, 1, 0.10256],\n",
    "    [1, 0, 0.97744],\n",
    "    [1, 1, 0.02256]\n",
    "], [risk_factor])\n",
    "\n",
    "chest = ConditionalProbabilityTable([\n",
    "    [0, 0, 0.97403],\n",
    "    [0, 1, 0.02597],\n",
    "    [1, 0, 0.98496],\n",
    "    [1, 1, 0.01504]\n",
    "], [risk_factor])\n",
    "\n",
    "heart = ConditionalProbabilityTable([\n",
    "    [0, 0, 1.0],\n",
    "    [0, 1, 0],\n",
    "    [1, 0, 0.85714],\n",
    "    [1, 1, 0.14286]\n",
    "], [risk_factor])\n",
    "\n",
    "fatigue = ConditionalProbabilityTable([\n",
    "    [0, 0, 0.11852],\n",
    "    [0, 1, 0.88148],\n",
    "    [1, 0, 0.09489],\n",
    "    [1, 1, 0.90511]\n",
    "], [risk_factor])"
   ]
  },
  {
   "cell_type": "code",
   "execution_count": 25,
   "metadata": {},
   "outputs": [],
   "source": [
    "s_age = State(age, name=\"age\")\n",
    "s_gender = State(gender, name=\"gender\")\n",
    "s_chronical_disease = State(chronical_disease, name=\"chronical\")\n",
    "s_risk_factor = State(risk_factor, name=\"risk\")\n",
    "s_fever = State(fever, name=\"fever_risk\")\n",
    "s_cough = State(cough, name=\"cough_risk\")\n",
    "s_shortness = State(shortness, name=\"shortness_risk\")\n",
    "s_sputum = State(sputum, name=\"sputum_risk\")\n",
    "s_diarrhea = State(diarrhea, name=\"diarrhea_risk\")\n",
    "s_myalgia = State(myalgia, name=\"myalgia_risk\")\n",
    "s_headache = State(headache, name=\"headache_risk\")\n",
    "s_chest = State(chest, name=\"chest_risk\")\n",
    "s_heart = State(heart, name=\"heart_risk\")\n",
    "s_fatigue = State(fatigue, name=\"fatigue_risk\")"
   ]
  },
  {
   "cell_type": "code",
   "execution_count": 26,
   "metadata": {},
   "outputs": [],
   "source": [
    "model = BayesianNetwork(\"Ground Truth Model\")\n",
    "model.add_states(s_age, s_gender, s_chronical_disease, s_risk_factor, s_fever, s_cough, s_shortness, s_sputum, s_diarrhea, s_myalgia, \n",
    "                 s_headache, s_chest, s_heart, s_fatigue)"
   ]
  },
  {
   "cell_type": "code",
   "execution_count": 27,
   "metadata": {},
   "outputs": [],
   "source": [
    "model.add_edge(s_age, s_chronical_disease)\n",
    "model.add_edge(s_gender, s_chronical_disease)\n",
    "model.add_edge(s_age, s_risk_factor)\n",
    "model.add_edge(s_gender, s_risk_factor)\n",
    "model.add_edge(s_chronical_disease, s_risk_factor)\n",
    "model.add_edge(s_risk_factor, s_fever)\n",
    "model.add_edge(s_risk_factor, s_cough)\n",
    "model.add_edge(s_risk_factor, s_shortness)\n",
    "model.add_edge(s_risk_factor, s_sputum)\n",
    "model.add_edge(s_risk_factor, s_diarrhea)\n",
    "model.add_edge(s_risk_factor, s_myalgia)\n",
    "model.add_edge(s_risk_factor, s_headache)\n",
    "model.add_edge(s_risk_factor, s_chest)\n",
    "model.add_edge(s_risk_factor, s_heart)\n",
    "model.add_edge(s_risk_factor, s_fatigue)\n",
    "model.bake()"
   ]
  },
  {
   "cell_type": "code",
   "execution_count": 28,
   "metadata": {},
   "outputs": [],
   "source": [
    "import copy\n",
    "samples_copy = copy.deepcopy(samples)\n",
    "for sample in samples_copy:\n",
    "    del sample['risk']"
   ]
  },
  {
   "cell_type": "code",
   "execution_count": 29,
   "metadata": {},
   "outputs": [
    {
     "name": "stdout",
     "output_type": "stream",
     "text": [
      "precision = 0.8733259699019743\n",
      "recall = 0.8402630180658873\n",
      "auc = 0.9673134448794252\n"
     ]
    }
   ],
   "source": [
    "from sklearn.metrics import confusion_matrix\n",
    "from sklearn import metrics\n",
    "\n",
    "y_true = []\n",
    "y_pred = []\n",
    "y_prob = []\n",
    "threshold = 0.2889292237691417\n",
    "\n",
    "for index, sample in enumerate(samples):\n",
    "    prob = model.predict_proba(samples_copy[index])[3].parameters[0][1]\n",
    "    pred = 1 if prob > 0.5 else 0\n",
    "    y_pred.append(pred)\n",
    "    y_prob.append(prob)\n",
    "    y_true.append(sample['risk'])\n",
    " \n",
    "tn, fp, fn, tp = confusion_matrix(y_true, y_pred).ravel()\n",
    "fpr, tpr, thresholds = metrics.roc_curve(y_true, y_prob)\n",
    "auc = metrics.auc(fpr, tpr)\n",
    "\n",
    "precision = tp / (tp + fp)\n",
    "recall = tp / (tp + fn)\n",
    "\n",
    "print(\"precision = {}\".format(precision))\n",
    "print(\"recall = {}\".format(recall))\n",
    "print(\"auc = {}\".format(auc))"
   ]
  },
  {
   "cell_type": "code",
   "execution_count": 30,
   "metadata": {},
   "outputs": [
    {
     "data": {
      "image/png": "[encoded data removed]",
      "text/plain": [
       "<Figure size 432x288 with 1 Axes>"
      ]
     },
     "metadata": {
      "needs_background": "light"
     },
     "output_type": "display_data"
    }
   ],
   "source": [
    "plot_roc(fpr, tpr)"
   ]
  },
  {
   "cell_type": "code",
   "execution_count": 31,
   "metadata": {},
   "outputs": [
    {
     "name": "stdout",
     "output_type": "stream",
     "text": [
      "0.29807350272999833\n"
     ]
    }
   ],
   "source": [
    "optimal_idx = np.argmax(tpr - fpr)\n",
    "optimal_threshold = thresholds[optimal_idx]\n",
    "print(optimal_threshold)"
   ]
  },
  {
   "cell_type": "code",
   "execution_count": null,
   "metadata": {},
   "outputs": [],
   "source": []
  }
 ],
 "metadata": {
  "colab": {
   "collapsed_sections": [],
   "name": "sampling.ipynb",
   "provenance": []
  },
  "kernelspec": {
   "display_name": "Python 3",
   "language": "python",
   "name": "python3"
  },
  "language_info": {
   "codemirror_mode": {
    "name": "ipython",
    "version": 3
   },
   "file_extension": ".py",
   "mimetype": "text/x-python",
   "name": "python",
   "nbconvert_exporter": "python",
   "pygments_lexer": "ipython3",
   "version": "3.7.6"
  }
 },
 "nbformat": 4,
 "nbformat_minor": 4
}
